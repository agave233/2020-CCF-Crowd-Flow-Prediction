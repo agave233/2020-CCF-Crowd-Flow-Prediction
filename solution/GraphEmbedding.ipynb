{
 "cells": [
  {
   "cell_type": "code",
   "execution_count": 71,
   "metadata": {},
   "outputs": [],
   "source": [
    "from ge import Node2Vec\n",
    "from geopy.distance import geodesic\n",
    "import networkx as nx\n",
    "import pickle as pkl\n",
    "import pandas as pd\n",
    "import numpy as np\n",
    "from tqdm import tqdm\n",
    "import copy\n",
    "import warnings\n",
    "warnings.filterwarnings(\"ignore\")\n",
    "type2eng = {'旅游景点;公园': 'Attraction;Park', '教育培训;高等院校': 'Education;School', '购物;购物中心': 'Shopping;Mall', '医疗;综合医院': 'Medical;Hospital', '运动健身;体育场馆': 'Sport;Stadium', '旅游景点;文物古迹': 'Attraction;Monument', '旅游景点;风景区': 'Attraction;Scenic', '交通设施;火车站': 'Transportation;Train', '交通设施;长途汽车站': 'Transportation;Bus', '旅游景点;植物园': 'Attraction;Arboretum', '旅游景点;游乐园': 'Attraction;Amusement', '旅游景点;水族馆': 'Attraction;Aquarium', '旅游景点;动物园': 'Attraction;Zoo', '交通设施;飞机场': 'Transportation;Airport'}"
   ]
  },
  {
   "cell_type": "markdown",
   "metadata": {},
   "source": [
    "## 1. load grid-flow-graph"
   ]
  },
  {
   "cell_type": "code",
   "execution_count": 11,
   "metadata": {},
   "outputs": [
    {
     "name": "stderr",
     "output_type": "stream",
     "text": [
      "9341613it [00:58, 159057.84it/s]\n"
     ]
    },
    {
     "data": {
      "text/plain": [
       "92471"
      ]
     },
     "execution_count": 11,
     "metadata": {},
     "output_type": "execute_result"
    }
   ],
   "source": [
    "grid_set = set()\n",
    "\n",
    "with open('./data/datafountain_competition_od.txt') as f:\n",
    "    for line in tqdm(f):\n",
    "        cont = line.strip().split('\\t')\n",
    "        g1 = (round(float(cont[1]),4),round(float(cont[2]),3))\n",
    "        g2 = (round(float(cont[3]),4),round(float(cont[4]),3))\n",
    "        grid_set.add(g1)\n",
    "        grid_set.add(g2)\n",
    "        \n",
    "len(grid_set)"
   ]
  },
  {
   "cell_type": "code",
   "execution_count": 12,
   "metadata": {},
   "outputs": [
    {
     "name": "stderr",
     "output_type": "stream",
     "text": [
      "9341613it [01:49, 85529.51it/s] \n"
     ]
    }
   ],
   "source": [
    "grid_flow_graph = {i: {} for i in grid_set}\n",
    "\n",
    "with open('./data/datafountain_competition_od.txt') as f:\n",
    "    for line in tqdm(f):\n",
    "        cont = line.strip().split('\\t')\n",
    "        g1 = (round(float(cont[1]),4),round(float(cont[2]),3))\n",
    "        g2 = (round(float(cont[3]),4),round(float(cont[4]),3))\n",
    "\n",
    "        hour = int(cont[0])\n",
    "        weight = float(cont[-1])\n",
    "        \n",
    "        if g2 not in grid_flow_graph[g1]:\n",
    "            grid_flow_graph[g1][g2] = {}\n",
    "        if hour not in grid_flow_graph[g1][g2]:\n",
    "            grid_flow_graph[g1][g2][hour] = []\n",
    "        grid_flow_graph[g1][g2][hour] += [weight]\n",
    "        "
   ]
  },
  {
   "cell_type": "code",
   "execution_count": 16,
   "metadata": {},
   "outputs": [
    {
     "data": {
      "text/plain": [
       "7490188"
      ]
     },
     "execution_count": 16,
     "metadata": {},
     "output_type": "execute_result"
    }
   ],
   "source": [
    "sum([len(k) for k in grid_flow_graph.values()])"
   ]
  },
  {
   "cell_type": "code",
   "execution_count": 65,
   "metadata": {},
   "outputs": [],
   "source": [
    "'''\n",
    "write grid_flow_graph\n",
    "'''\n",
    "with open('./cache/grid_flow_graph/grid_flow_graph.pkl', 'wb') as f:\n",
    "    pkl.dump(grid_flow_graph, f)"
   ]
  },
  {
   "cell_type": "markdown",
   "metadata": {},
   "source": [
    "## 2. build area-grid relation "
   ]
  },
  {
   "cell_type": "code",
   "execution_count": 72,
   "metadata": {},
   "outputs": [
    {
     "name": "stdout",
     "output_type": "stream",
     "text": [
      "997 989\n"
     ]
    }
   ],
   "source": [
    "id2grid = {}\n",
    "grid2id = {}\n",
    "id2area = {}\n",
    "id2cent = {}\n",
    "id2sq = {}\n",
    "id2type = {}\n",
    "with open('./data/area_passenger_info.csv') as f:\n",
    "    for line in f:\n",
    "        cont = line.strip().split(',')\n",
    "        g = (round(float(cont[5]),4),round(float(cont[6]),3))\n",
    "\n",
    "        id2area[int(cont[0])] = cont[1]\n",
    "        id2cent[int(cont[0])] = (float(cont[3]), float(cont[4]))\n",
    "        id2grid[int(cont[0])] = g\n",
    "        id2sq[int(cont[0])] = float(cont[-1])\n",
    "        id2type[int(cont[0])] = type2eng[cont[2]].split(';')[0]\n",
    "        \n",
    "        if g not in grid2id:\n",
    "            grid2id[g] = []\n",
    "        grid2id[g].append(int(cont[0]))\n",
    "        \n",
    "print(len(id2grid), len(grid2id))"
   ]
  },
  {
   "cell_type": "code",
   "execution_count": 25,
   "metadata": {},
   "outputs": [
    {
     "name": "stderr",
     "output_type": "stream",
     "text": [
      "100%|██████████| 101/101 [34:16<00:00, 20.36s/it]\n"
     ]
    },
    {
     "data": {
      "text/plain": [
       "101"
      ]
     },
     "execution_count": 25,
     "metadata": {},
     "output_type": "execute_result"
    }
   ],
   "source": [
    "'''\n",
    "由于一部分area所在的网格 并不在 grid_flow_graph中，需要找其邻近的网格进行补充\n",
    "'''\n",
    "\n",
    "id2grid_supply = {}\n",
    "\n",
    "for g in tqdm(set(grid2id) - set(grid_flow_graph)):\n",
    "    for aid in grid2id[g]:\n",
    "        id2grid_supply[aid] = {}\n",
    "        min_dist = 1e9\n",
    "        min_g = None\n",
    "        gc = id2cent[aid]\n",
    "        for g1 in set(grid_flow_graph):\n",
    "            dist = geodesic((gc[1],gc[0]),(g1[1],g1[0])).m\n",
    "            if dist < min_dist:\n",
    "                min_dist = dist\n",
    "                min_g = g1\n",
    "        id2grid_supply[aid]['grid'] = min_g\n",
    "        id2grid_supply[aid]['sq'] = id2sq[aid]\n",
    "        id2grid_supply[aid]['dist'] = min_dist\n",
    "\n",
    "len(id2grid_supply)"
   ]
  },
  {
   "cell_type": "code",
   "execution_count": 26,
   "metadata": {},
   "outputs": [
    {
     "name": "stdout",
     "output_type": "stream",
     "text": [
      "988 997\n"
     ]
    }
   ],
   "source": [
    "'''\n",
    "更新id2grid和grid2id\n",
    "'''\n",
    "\n",
    "id2grid_new = id2grid.copy()\n",
    "grid2id_new = {}\n",
    "for k,v in id2grid_supply.items():\n",
    "    id2grid_new[k] = v['grid']\n",
    "\n",
    "for k,v in id2grid_new.items():\n",
    "    if k not in grid2id_new:\n",
    "        grid2id_new[v] = [] # it's a bug !\n",
    "    grid2id_new[v].append(k)\n",
    "\n",
    "print(len(grid2id_new), len(id2grid_new))"
   ]
  },
  {
   "cell_type": "code",
   "execution_count": 66,
   "metadata": {},
   "outputs": [],
   "source": [
    "'''\n",
    "write id2grid & grid2id\n",
    "'''\n",
    "with open('./cache/grid_flow_graph/grid2id_new.pkl', 'wb') as f:\n",
    "    pkl.dump(grid2id_new, f)\n",
    "with open('./cache/grid_flow_graph/id2grid_new.pkl', 'wb') as f:\n",
    "    pkl.dump(id2grid_new, f)"
   ]
  },
  {
   "cell_type": "markdown",
   "metadata": {},
   "source": [
    "## 3. construct area-flow-graph"
   ]
  },
  {
   "cell_type": "code",
   "execution_count": 31,
   "metadata": {},
   "outputs": [],
   "source": [
    "def construct_area_flow_graph(hour):\n",
    "    '''\n",
    "    construct area flow graph at an hour\n",
    "    '''\n",
    "    area_flow_graph = {}\n",
    "    for aid in range(997):\n",
    "        area_flow_graph[aid] = {}\n",
    "        for k, v in grid_flow_graph[id2grid_new[aid+1]].items():\n",
    "            aids_ = grid2id_new.get(k,None)\n",
    "            if not aids_:\n",
    "                continue\n",
    "            for aid_ in aids_:\n",
    "                aid_ = aid_ - 1\n",
    "                w = v.get(hour, None)\n",
    "                if not w:\n",
    "                    continue\n",
    "                area_flow_graph[aid][aid_] = max(w)\n",
    "                \n",
    "    return area_flow_graph"
   ]
  },
  {
   "cell_type": "code",
   "execution_count": 32,
   "metadata": {},
   "outputs": [
    {
     "name": "stdout",
     "output_type": "stream",
     "text": [
      "0 孤立点个数: 974\n",
      "1 孤立点个数: 972\n",
      "2 孤立点个数: 983\n",
      "3 孤立点个数: 981\n",
      "4 孤立点个数: 966\n",
      "5 孤立点个数: 918\n",
      "6 孤立点个数: 850\n",
      "7 孤立点个数: 769\n",
      "8 孤立点个数: 733\n",
      "9 孤立点个数: 712\n",
      "10 孤立点个数: 690\n",
      "11 孤立点个数: 654\n",
      "12 孤立点个数: 657\n",
      "13 孤立点个数: 656\n",
      "14 孤立点个数: 656\n",
      "15 孤立点个数: 671\n",
      "16 孤立点个数: 647\n",
      "17 孤立点个数: 610\n",
      "18 孤立点个数: 662\n",
      "19 孤立点个数: 734\n",
      "20 孤立点个数: 790\n",
      "21 孤立点个数: 810\n",
      "22 孤立点个数: 879\n",
      "23 孤立点个数: 971\n"
     ]
    }
   ],
   "source": [
    "area_flow_hour_graph = {}\n",
    "for h in range(24):\n",
    "    area_flow_hour_graph[h] = construct_area_flow_graph(h)\n",
    "    print(h, '孤立点个数:', sum([len(x) == 0 for x in area_flow_hour_graph[h].values()]))\n",
    "    with open('./cache/area_flow_graph/area_flow_hour_graph_'+str(h)+'.edgelist', 'w') as f:\n",
    "        for k, v in area_flow_hour_graph[h].items():\n",
    "            f.write(str(k)+' '+str(k)+' '+str(0.5)+'\\n')\n",
    "            for k1,v1 in v.items():\n",
    "                f.write(str(k)+' '+str(k1)+' '+str(v1)+'\\n')"
   ]
  },
  {
   "cell_type": "markdown",
   "metadata": {},
   "source": [
    "## 4. run Node2Vec"
   ]
  },
  {
   "cell_type": "code",
   "execution_count": 48,
   "metadata": {
    "scrolled": true
   },
   "outputs": [
    {
     "name": "stdout",
     "output_type": "stream",
     "text": [
      "Hour 0\n",
      "Preprocess transition probs...\n"
     ]
    },
    {
     "name": "stderr",
     "output_type": "stream",
     "text": [
      "[Parallel(n_jobs=1)]: Using backend SequentialBackend with 1 concurrent workers.\n",
      "[Parallel(n_jobs=1)]: Done   1 out of   1 | elapsed:    1.1s finished\n"
     ]
    },
    {
     "name": "stdout",
     "output_type": "stream",
     "text": [
      "Learning embedding vectors...\n",
      "Learning embedding vectors done!\n",
      "Hour 1\n",
      "Preprocess transition probs...\n"
     ]
    },
    {
     "name": "stderr",
     "output_type": "stream",
     "text": [
      "[Parallel(n_jobs=1)]: Using backend SequentialBackend with 1 concurrent workers.\n",
      "[Parallel(n_jobs=1)]: Done   1 out of   1 | elapsed:    1.1s finished\n"
     ]
    },
    {
     "name": "stdout",
     "output_type": "stream",
     "text": [
      "Learning embedding vectors...\n",
      "Learning embedding vectors done!\n",
      "Hour 2\n",
      "Preprocess transition probs...\n"
     ]
    },
    {
     "name": "stderr",
     "output_type": "stream",
     "text": [
      "[Parallel(n_jobs=1)]: Using backend SequentialBackend with 1 concurrent workers.\n",
      "[Parallel(n_jobs=1)]: Done   1 out of   1 | elapsed:    1.1s finished\n"
     ]
    },
    {
     "name": "stdout",
     "output_type": "stream",
     "text": [
      "Learning embedding vectors...\n",
      "Learning embedding vectors done!\n",
      "Hour 3\n",
      "Preprocess transition probs...\n"
     ]
    },
    {
     "name": "stderr",
     "output_type": "stream",
     "text": [
      "[Parallel(n_jobs=1)]: Using backend SequentialBackend with 1 concurrent workers.\n",
      "[Parallel(n_jobs=1)]: Done   1 out of   1 | elapsed:    1.1s finished\n"
     ]
    },
    {
     "name": "stdout",
     "output_type": "stream",
     "text": [
      "Learning embedding vectors...\n",
      "Learning embedding vectors done!\n",
      "Hour 4\n",
      "Preprocess transition probs...\n"
     ]
    },
    {
     "name": "stderr",
     "output_type": "stream",
     "text": [
      "[Parallel(n_jobs=1)]: Using backend SequentialBackend with 1 concurrent workers.\n",
      "[Parallel(n_jobs=1)]: Done   1 out of   1 | elapsed:    1.1s finished\n"
     ]
    },
    {
     "name": "stdout",
     "output_type": "stream",
     "text": [
      "Learning embedding vectors...\n",
      "Learning embedding vectors done!\n",
      "Hour 5\n",
      "Preprocess transition probs...\n"
     ]
    },
    {
     "name": "stderr",
     "output_type": "stream",
     "text": [
      "[Parallel(n_jobs=1)]: Using backend SequentialBackend with 1 concurrent workers.\n",
      "[Parallel(n_jobs=1)]: Done   1 out of   1 | elapsed:    1.0s finished\n"
     ]
    },
    {
     "name": "stdout",
     "output_type": "stream",
     "text": [
      "Learning embedding vectors...\n",
      "Learning embedding vectors done!\n",
      "Hour 6\n",
      "Preprocess transition probs...\n"
     ]
    },
    {
     "name": "stderr",
     "output_type": "stream",
     "text": [
      "[Parallel(n_jobs=1)]: Using backend SequentialBackend with 1 concurrent workers.\n",
      "[Parallel(n_jobs=1)]: Done   1 out of   1 | elapsed:    1.1s finished\n"
     ]
    },
    {
     "name": "stdout",
     "output_type": "stream",
     "text": [
      "Learning embedding vectors...\n",
      "Learning embedding vectors done!\n",
      "Hour 7\n",
      "Preprocess transition probs...\n"
     ]
    },
    {
     "name": "stderr",
     "output_type": "stream",
     "text": [
      "[Parallel(n_jobs=1)]: Using backend SequentialBackend with 1 concurrent workers.\n",
      "[Parallel(n_jobs=1)]: Done   1 out of   1 | elapsed:    1.1s finished\n"
     ]
    },
    {
     "name": "stdout",
     "output_type": "stream",
     "text": [
      "Learning embedding vectors...\n",
      "Learning embedding vectors done!\n",
      "Hour 8\n",
      "Preprocess transition probs...\n"
     ]
    },
    {
     "name": "stderr",
     "output_type": "stream",
     "text": [
      "[Parallel(n_jobs=1)]: Using backend SequentialBackend with 1 concurrent workers.\n",
      "[Parallel(n_jobs=1)]: Done   1 out of   1 | elapsed:    1.0s finished\n"
     ]
    },
    {
     "name": "stdout",
     "output_type": "stream",
     "text": [
      "Learning embedding vectors...\n",
      "Learning embedding vectors done!\n",
      "Hour 9\n",
      "Preprocess transition probs...\n"
     ]
    },
    {
     "name": "stderr",
     "output_type": "stream",
     "text": [
      "[Parallel(n_jobs=1)]: Using backend SequentialBackend with 1 concurrent workers.\n",
      "[Parallel(n_jobs=1)]: Done   1 out of   1 | elapsed:    1.1s finished\n"
     ]
    },
    {
     "name": "stdout",
     "output_type": "stream",
     "text": [
      "Learning embedding vectors...\n",
      "Learning embedding vectors done!\n",
      "Hour 10\n",
      "Preprocess transition probs...\n"
     ]
    },
    {
     "name": "stderr",
     "output_type": "stream",
     "text": [
      "[Parallel(n_jobs=1)]: Using backend SequentialBackend with 1 concurrent workers.\n",
      "[Parallel(n_jobs=1)]: Done   1 out of   1 | elapsed:    1.0s finished\n"
     ]
    },
    {
     "name": "stdout",
     "output_type": "stream",
     "text": [
      "Learning embedding vectors...\n",
      "Learning embedding vectors done!\n",
      "Hour 11\n",
      "Preprocess transition probs...\n"
     ]
    },
    {
     "name": "stderr",
     "output_type": "stream",
     "text": [
      "[Parallel(n_jobs=1)]: Using backend SequentialBackend with 1 concurrent workers.\n",
      "[Parallel(n_jobs=1)]: Done   1 out of   1 | elapsed:    1.1s finished\n"
     ]
    },
    {
     "name": "stdout",
     "output_type": "stream",
     "text": [
      "Learning embedding vectors...\n",
      "Learning embedding vectors done!\n",
      "Hour 12\n",
      "Preprocess transition probs...\n"
     ]
    },
    {
     "name": "stderr",
     "output_type": "stream",
     "text": [
      "[Parallel(n_jobs=1)]: Using backend SequentialBackend with 1 concurrent workers.\n",
      "[Parallel(n_jobs=1)]: Done   1 out of   1 | elapsed:    1.2s finished\n"
     ]
    },
    {
     "name": "stdout",
     "output_type": "stream",
     "text": [
      "Learning embedding vectors...\n",
      "Learning embedding vectors done!\n",
      "Hour 13\n",
      "Preprocess transition probs...\n"
     ]
    },
    {
     "name": "stderr",
     "output_type": "stream",
     "text": [
      "[Parallel(n_jobs=1)]: Using backend SequentialBackend with 1 concurrent workers.\n",
      "[Parallel(n_jobs=1)]: Done   1 out of   1 | elapsed:    1.1s finished\n"
     ]
    },
    {
     "name": "stdout",
     "output_type": "stream",
     "text": [
      "Learning embedding vectors...\n",
      "Learning embedding vectors done!\n",
      "Hour 14\n",
      "Preprocess transition probs...\n"
     ]
    },
    {
     "name": "stderr",
     "output_type": "stream",
     "text": [
      "[Parallel(n_jobs=1)]: Using backend SequentialBackend with 1 concurrent workers.\n",
      "[Parallel(n_jobs=1)]: Done   1 out of   1 | elapsed:    1.0s finished\n"
     ]
    },
    {
     "name": "stdout",
     "output_type": "stream",
     "text": [
      "Learning embedding vectors...\n",
      "Learning embedding vectors done!\n",
      "Hour 15\n",
      "Preprocess transition probs...\n"
     ]
    },
    {
     "name": "stderr",
     "output_type": "stream",
     "text": [
      "[Parallel(n_jobs=1)]: Using backend SequentialBackend with 1 concurrent workers.\n",
      "[Parallel(n_jobs=1)]: Done   1 out of   1 | elapsed:    1.0s finished\n"
     ]
    },
    {
     "name": "stdout",
     "output_type": "stream",
     "text": [
      "Learning embedding vectors...\n",
      "Learning embedding vectors done!\n",
      "Hour 16\n",
      "Preprocess transition probs...\n"
     ]
    },
    {
     "name": "stderr",
     "output_type": "stream",
     "text": [
      "[Parallel(n_jobs=1)]: Using backend SequentialBackend with 1 concurrent workers.\n",
      "[Parallel(n_jobs=1)]: Done   1 out of   1 | elapsed:    1.1s finished\n"
     ]
    },
    {
     "name": "stdout",
     "output_type": "stream",
     "text": [
      "Learning embedding vectors...\n",
      "Learning embedding vectors done!\n",
      "Hour 17\n",
      "Preprocess transition probs...\n"
     ]
    },
    {
     "name": "stderr",
     "output_type": "stream",
     "text": [
      "[Parallel(n_jobs=1)]: Using backend SequentialBackend with 1 concurrent workers.\n",
      "[Parallel(n_jobs=1)]: Done   1 out of   1 | elapsed:    1.1s finished\n"
     ]
    },
    {
     "name": "stdout",
     "output_type": "stream",
     "text": [
      "Learning embedding vectors...\n",
      "Learning embedding vectors done!\n",
      "Hour 18\n",
      "Preprocess transition probs...\n"
     ]
    },
    {
     "name": "stderr",
     "output_type": "stream",
     "text": [
      "[Parallel(n_jobs=1)]: Using backend SequentialBackend with 1 concurrent workers.\n",
      "[Parallel(n_jobs=1)]: Done   1 out of   1 | elapsed:    1.1s finished\n"
     ]
    },
    {
     "name": "stdout",
     "output_type": "stream",
     "text": [
      "Learning embedding vectors...\n",
      "Learning embedding vectors done!\n",
      "Hour 19\n",
      "Preprocess transition probs...\n"
     ]
    },
    {
     "name": "stderr",
     "output_type": "stream",
     "text": [
      "[Parallel(n_jobs=1)]: Using backend SequentialBackend with 1 concurrent workers.\n",
      "[Parallel(n_jobs=1)]: Done   1 out of   1 | elapsed:    1.1s finished\n"
     ]
    },
    {
     "name": "stdout",
     "output_type": "stream",
     "text": [
      "Learning embedding vectors...\n",
      "Learning embedding vectors done!\n",
      "Hour 20\n",
      "Preprocess transition probs...\n"
     ]
    },
    {
     "name": "stderr",
     "output_type": "stream",
     "text": [
      "[Parallel(n_jobs=1)]: Using backend SequentialBackend with 1 concurrent workers.\n",
      "[Parallel(n_jobs=1)]: Done   1 out of   1 | elapsed:    1.1s finished\n"
     ]
    },
    {
     "name": "stdout",
     "output_type": "stream",
     "text": [
      "Learning embedding vectors...\n",
      "Learning embedding vectors done!\n",
      "Hour 21\n",
      "Preprocess transition probs...\n"
     ]
    },
    {
     "name": "stderr",
     "output_type": "stream",
     "text": [
      "[Parallel(n_jobs=1)]: Using backend SequentialBackend with 1 concurrent workers.\n",
      "[Parallel(n_jobs=1)]: Done   1 out of   1 | elapsed:    1.2s finished\n"
     ]
    },
    {
     "name": "stdout",
     "output_type": "stream",
     "text": [
      "Learning embedding vectors...\n",
      "Learning embedding vectors done!\n",
      "Hour 22\n",
      "Preprocess transition probs...\n"
     ]
    },
    {
     "name": "stderr",
     "output_type": "stream",
     "text": [
      "[Parallel(n_jobs=1)]: Using backend SequentialBackend with 1 concurrent workers.\n",
      "[Parallel(n_jobs=1)]: Done   1 out of   1 | elapsed:    1.1s finished\n"
     ]
    },
    {
     "name": "stdout",
     "output_type": "stream",
     "text": [
      "Learning embedding vectors...\n",
      "Learning embedding vectors done!\n",
      "Hour 23\n",
      "Preprocess transition probs...\n"
     ]
    },
    {
     "name": "stderr",
     "output_type": "stream",
     "text": [
      "[Parallel(n_jobs=1)]: Using backend SequentialBackend with 1 concurrent workers.\n",
      "[Parallel(n_jobs=1)]: Done   1 out of   1 | elapsed:    1.0s finished\n"
     ]
    },
    {
     "name": "stdout",
     "output_type": "stream",
     "text": [
      "Learning embedding vectors...\n",
      "Learning embedding vectors done!\n"
     ]
    }
   ],
   "source": [
    "MODEL = 'node2vec'\n",
    "embed_size = 16\n",
    "walk_length = 5\n",
    "num_walks = 80\n",
    "\n",
    "for h in range(24):\n",
    "    print('Hour',h)\n",
    "    G = nx.read_edgelist('./cache/area_flow_graph/area_flow_hour_graph_'+str(h)+'.edgelist', create_using=nx.DiGraph(), nodetype=None,\n",
    "                         data=[('weight', float)])\n",
    "\n",
    "    model = Node2Vec(G, walk_length, num_walks, workers=1,p=0.25,q=2 )\n",
    "    model.train(embed_size=embed_size)\n",
    "    embeddings = model.get_embeddings()\n",
    "\n",
    "    eswl = 'es'+str(embed_size)+'_wl'+str(walk_length)+'_'\n",
    "    with open('./cache/area_embedding/area_flow_hour_'+MODEL+'_embed_'+eswl+str(h)+'.pkl', 'wb') as f:\n",
    "        pkl.dump(embeddings, f)"
   ]
  },
  {
   "cell_type": "markdown",
   "metadata": {},
   "source": [
    "## 5. plot"
   ]
  },
  {
   "cell_type": "code",
   "execution_count": 59,
   "metadata": {},
   "outputs": [],
   "source": [
    "from sklearn.manifold import TSNE\n",
    "import matplotlib.pyplot as plt\n",
    "\n",
    "def plot_embeddings(X, Y, embeddings):\n",
    "    emb_list = []\n",
    "    for k in X:\n",
    "        emb_list.append(embeddings[k])\n",
    "    emb_list = np.array(emb_list)\n",
    "\n",
    "    model = TSNE(n_components=2)\n",
    "    node_pos = model.fit_transform(emb_list)\n",
    "\n",
    "    color_idx = {}\n",
    "    for i in range(len(X)):\n",
    "        color_idx.setdefault(Y[i], [])\n",
    "        color_idx[Y[i]].append(i)\n",
    "    for c, idx in color_idx.items():\n",
    "        plt.scatter(node_pos[idx, 0], node_pos[idx, 1], label=c)  # c=node_colors)\n",
    "\n",
    "    plt.legend()\n",
    "    plt.show()"
   ]
  },
  {
   "cell_type": "code",
   "execution_count": 74,
   "metadata": {},
   "outputs": [
    {
     "data": {
      "image/png": "[encoded data removed]",
      "text/plain": [
       "<Figure size 432x288 with 1 Axes>"
      ]
     },
     "metadata": {
      "needs_background": "light"
     },
     "output_type": "display_data"
    }
   ],
   "source": [
    "h = 14\n",
    "type2idx, idx = {}, 0\n",
    "X, Y = [], []\n",
    "for k, v in area_flow_hour_graph[h].items():\n",
    "    if len(v) == 0:\n",
    "        continue\n",
    "    y = id2type[k+1]\n",
    "    if y not in type2idx:\n",
    "        type2idx[y] = idx\n",
    "        idx += 1\n",
    "    X.append(str(k))\n",
    "    Y.append(y)\n",
    "    \n",
    "with open('./cache/area_embedding/area_flow_hour_'+MODEL+'_embed_'+eswl+str(h)+'.pkl', 'rb') as f:\n",
    "    embeddings = pkl.load(f)\n",
    "    \n",
    "plot_embeddings(X, Y, embeddings)"
   ]
  },
  {
   "cell_type": "code",
   "execution_count": null,
   "metadata": {},
   "outputs": [],
   "source": []
  }
 ],
 "metadata": {
  "kernelspec": {
   "display_name": "Python 3",
   "language": "python",
   "name": "python3"
  },
  "language_info": {
   "codemirror_mode": {
    "name": "ipython",
    "version": 3
   },
   "file_extension": ".py",
   "mimetype": "text/x-python",
   "name": "python",
   "nbconvert_exporter": "python",
   "pygments_lexer": "ipython3",
   "version": "3.6.4"
  }
 },
 "nbformat": 4,
 "nbformat_minor": 2
}
